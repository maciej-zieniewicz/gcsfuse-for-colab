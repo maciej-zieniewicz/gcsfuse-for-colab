{
  "nbformat": 4,
  "nbformat_minor": 0,
  "metadata": {
    "colab": {
      "name": "google_storage.ipynb",
      "provenance": [],
      "collapsed_sections": [],
      "mount_file_id": "1sYnfQkKk-guKO5A6k9L2kVqrmq-YA-mm",
      "authorship_tag": "ABX9TyPkbVYH45eMMR8iiE7JFnmr",
      "include_colab_link": true
    },
    "kernelspec": {
      "display_name": "Python 3",
      "name": "python3"
    },
    "accelerator": "TPU"
  },
  "cells": [
    {
      "cell_type": "markdown",
      "metadata": {
        "id": "view-in-github",
        "colab_type": "text"
      },
      "source": [
        "<a href=\"https://colab.research.google.com/github/maciej-zieniewicz/gcsfuse-for-colab/blob/main/google_storage.ipynb\" target=\"_parent\"><img src=\"https://colab.research.google.com/assets/colab-badge.svg\" alt=\"Open In Colab\"/></a>"
      ]
    },
    {
      "cell_type": "code",
      "metadata": {
        "id": "qIyCr_QeOynh"
      },
      "source": [
        "from google.colab import auth\r\n",
        "auth.authenticate_user()"
      ],
      "execution_count": 1,
      "outputs": []
    },
    {
      "cell_type": "code",
      "metadata": {
        "colab": {
          "base_uri": "https://localhost:8080/"
        },
        "id": "Cihzkk_Y4E4v",
        "outputId": "c50c816a-914b-4114-9bf4-b631ba76cd31"
      },
      "source": [
        "!echo \"deb http://packages.cloud.google.com/apt gcsfuse-bionic main\" > /etc/apt/sources.list.d/gcsfuse.list\n",
        "!curl https://packages.cloud.google.com/apt/doc/apt-key.gpg | apt-key add -\n",
        "!apt -qq update\n",
        "!apt -qq install gcsfuse "
      ],
      "execution_count": 2,
      "outputs": [
        {
          "output_type": "stream",
          "text": [
            "  % Total    % Received % Xferd  Average Speed   Time    Time     Time  Current\n",
            "                                 Dload  Upload   Total   Spent    Left  Speed\n",
            "\r  0     0    0     0    0     0      0      0 --:--:-- --:--:-- --:--:--     0\r100  1974  100  1974    0     0  50615      0 --:--:-- --:--:-- --:--:-- 50615\n",
            "OK\n",
            "18 packages can be upgraded. Run 'apt list --upgradable' to see them.\n",
            "The following NEW packages will be installed:\n",
            "  gcsfuse\n",
            "0 upgraded, 1 newly installed, 0 to remove and 18 not upgraded.\n",
            "Need to get 10.7 MB of archives.\n",
            "After this operation, 22.9 MB of additional disk space will be used.\n",
            "Selecting previously unselected package gcsfuse.\n",
            "(Reading database ... 146442 files and directories currently installed.)\n",
            "Preparing to unpack .../gcsfuse_0.33.1_amd64.deb ...\n",
            "Unpacking gcsfuse (0.33.1) ...\n",
            "Setting up gcsfuse (0.33.1) ...\n"
          ],
          "name": "stdout"
        }
      ]
    },
    {
      "cell_type": "code",
      "metadata": {
        "colab": {
          "base_uri": "https://localhost:8080/"
        },
        "id": "1N8Lle1iRKdh",
        "outputId": "1f3ee275-dae6-4c6f-b76b-456bf402998a"
      },
      "source": [
        "!mkdir googleBucketFolder\r\n",
        "!gcsfuse --implicit-dirs colab-connect-bucket googleBucketFolder"
      ],
      "execution_count": 3,
      "outputs": [
        {
          "output_type": "stream",
          "text": [
            "Using mount point: /content/googleBucketFolder\n",
            "Opening GCS connection...\n",
            "Mounting file system...\n",
            "File system has been successfully mounted.\n"
          ],
          "name": "stdout"
        }
      ]
    },
    {
      "cell_type": "code",
      "metadata": {
        "colab": {
          "base_uri": "https://localhost:8080/"
        },
        "id": "Gu99PjnhJHFy",
        "outputId": "adca2479-b09c-4098-f421-a1c4d541a0c7"
      },
      "source": [
        "!gsutil cp /content/googleBucketFolder/cat.jpg ."
      ],
      "execution_count": 4,
      "outputs": [
        {
          "output_type": "stream",
          "text": [
            "Copying file:///content/googleBucketFolder/cat.jpg...\n",
            "/ [0 files][    0.0 B/    0.0 B]                                                \r/ [1 files][    0.0 B/    0.0 B]                                                \r\n",
            "Operation completed over 1 objects.                                              \n"
          ],
          "name": "stdout"
        }
      ]
    }
  ]
}